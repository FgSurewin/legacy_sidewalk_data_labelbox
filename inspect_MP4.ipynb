{
 "cells": [
  {
   "cell_type": "code",
   "execution_count": 2,
   "id": "a6d943f4",
   "metadata": {},
   "outputs": [
    {
     "name": "stdout",
     "output_type": "stream",
     "text": [
      "Number of MP4 files: 1501\n"
     ]
    }
   ],
   "source": [
    "import os\n",
    "import pandas as pd\n",
    "from glob import glob\n",
    "\n",
    "# 1. Count the number of MP4 files in the directory\n",
    "mp4_dir = 'labelbox_sidewalk_legacy_data'\n",
    "mp4_files = [f for f in os.listdir(mp4_dir) if f.lower().endswith('.mp4')]\n",
    "print(f\"Number of MP4 files: {len(mp4_files)}\")"
   ]
  },
  {
   "cell_type": "code",
   "execution_count": 3,
   "id": "d92f9b3d",
   "metadata": {},
   "outputs": [
    {
     "name": "stdout",
     "output_type": "stream",
     "text": [
      "Missing videos count: 0\n"
     ]
    },
    {
     "data": {
      "text/html": [
       "<div>\n",
       "<style scoped>\n",
       "    .dataframe tbody tr th:only-of-type {\n",
       "        vertical-align: middle;\n",
       "    }\n",
       "\n",
       "    .dataframe tbody tr th {\n",
       "        vertical-align: top;\n",
       "    }\n",
       "\n",
       "    .dataframe thead th {\n",
       "        text-align: right;\n",
       "    }\n",
       "</style>\n",
       "<table border=\"1\" class=\"dataframe\">\n",
       "  <thead>\n",
       "    <tr style=\"text-align: right;\">\n",
       "      <th></th>\n",
       "      <th>video_name</th>\n",
       "      <th>collector_name</th>\n",
       "      <th>material</th>\n",
       "      <th>full_path</th>\n",
       "      <th>duration</th>\n",
       "      <th>video_name_mp4</th>\n",
       "    </tr>\n",
       "  </thead>\n",
       "  <tbody>\n",
       "  </tbody>\n",
       "</table>\n",
       "</div>"
      ],
      "text/plain": [
       "Empty DataFrame\n",
       "Columns: [video_name, collector_name, material, full_path, duration, video_name_mp4]\n",
       "Index: []"
      ]
     },
     "execution_count": 3,
     "metadata": {},
     "output_type": "execute_result"
    }
   ],
   "source": [
    "# 2. Read continuous_videos.csv and find videos not in labelbox_sidewalk_legacy_data\n",
    "csv_path = 'data/continuous_videos.csv'\n",
    "df = pd.read_csv(csv_path)\n",
    "\n",
    "# Extract video names from the CSV (remove extensions, change to .mp4)\n",
    "def mov_to_mp4(name):\n",
    "    if name.lower().endswith('.mov'):\n",
    "        return name[:-4] + '.mp4'\n",
    "    return name\n",
    "df['video_name_mp4'] = df['video_name'].apply(mov_to_mp4)\n",
    "\n",
    "# Collect the names of all existing MP4 files\n",
    "mp4_set = set(mp4_files)\n",
    "\n",
    "# Find MP4 files that are not in the local directory\n",
    "missing_mask = ~df['video_name_mp4'].isin(mp4_set)\n",
    "missing_data_df = df[missing_mask].copy()\n",
    "print(f\"Missing videos count: {len(missing_data_df)}\")\n",
    "missing_data_df.head()"
   ]
  },
  {
   "cell_type": "markdown",
   "id": "632a80e5",
   "metadata": {},
   "source": [
    "## Inspect testbed data"
   ]
  },
  {
   "cell_type": "code",
   "execution_count": 1,
   "id": "1a6cc98a",
   "metadata": {},
   "outputs": [
    {
     "data": {
      "text/html": [
       "<div>\n",
       "<style scoped>\n",
       "    .dataframe tbody tr th:only-of-type {\n",
       "        vertical-align: middle;\n",
       "    }\n",
       "\n",
       "    .dataframe tbody tr th {\n",
       "        vertical-align: top;\n",
       "    }\n",
       "\n",
       "    .dataframe thead th {\n",
       "        text-align: right;\n",
       "    }\n",
       "</style>\n",
       "<table border=\"1\" class=\"dataframe\">\n",
       "  <thead>\n",
       "    <tr style=\"text-align: right;\">\n",
       "      <th></th>\n",
       "      <th>file_name</th>\n",
       "      <th>year</th>\n",
       "      <th>duration_sec</th>\n",
       "    </tr>\n",
       "  </thead>\n",
       "  <tbody>\n",
       "    <tr>\n",
       "      <th>0</th>\n",
       "      <td>2025-07-15_13-45-34-116_Roller_Ball_Clear_BMCC...</td>\n",
       "      <td>2025</td>\n",
       "      <td>57.600000</td>\n",
       "    </tr>\n",
       "    <tr>\n",
       "      <th>1</th>\n",
       "      <td>2025-07-14_14-22-35-043_Roller_Ball_Clear_BMCC...</td>\n",
       "      <td>2025</td>\n",
       "      <td>8.133333</td>\n",
       "    </tr>\n",
       "    <tr>\n",
       "      <th>2</th>\n",
       "      <td>2025-07-15_14-15-31-424_Roller_Ball_Clear_BMCC...</td>\n",
       "      <td>2025</td>\n",
       "      <td>21.000000</td>\n",
       "    </tr>\n",
       "    <tr>\n",
       "      <th>3</th>\n",
       "      <td>2025-07-15_13-51-06-043_Roller_Ball_Clear_BMCC...</td>\n",
       "      <td>2025</td>\n",
       "      <td>109.000000</td>\n",
       "    </tr>\n",
       "    <tr>\n",
       "      <th>4</th>\n",
       "      <td>0_2024-07-30 13:58:08.8070_none.mp4</td>\n",
       "      <td>2024</td>\n",
       "      <td>59.666667</td>\n",
       "    </tr>\n",
       "  </tbody>\n",
       "</table>\n",
       "</div>"
      ],
      "text/plain": [
       "                                           file_name  year  duration_sec\n",
       "0  2025-07-15_13-45-34-116_Roller_Ball_Clear_BMCC...  2025     57.600000\n",
       "1  2025-07-14_14-22-35-043_Roller_Ball_Clear_BMCC...  2025      8.133333\n",
       "2  2025-07-15_14-15-31-424_Roller_Ball_Clear_BMCC...  2025     21.000000\n",
       "3  2025-07-15_13-51-06-043_Roller_Ball_Clear_BMCC...  2025    109.000000\n",
       "4                0_2024-07-30 13:58:08.8070_none.mp4  2024     59.666667"
      ]
     },
     "execution_count": 1,
     "metadata": {},
     "output_type": "execute_result"
    }
   ],
   "source": [
    "import cv2\n",
    "import re\n",
    "import os\n",
    "import pandas as pd\n",
    "from glob import glob\n",
    "\n",
    "testbed_dir = 'labelbox_sidewalk_testbed_data'\n",
    "testbed_files = [f for f in os.listdir(testbed_dir) if f.lower().endswith('.mp4')]\n",
    "\n",
    "def extract_year(filename):\n",
    "    # Try to find a year in the format YYYY in the filename\n",
    "    match = re.search(r'(20\\d{2})', filename)\n",
    "    if match:\n",
    "        return int(match.group(1))\n",
    "    return None\n",
    "\n",
    "def get_video_duration(filepath):\n",
    "    try:\n",
    "        cap = cv2.VideoCapture(filepath)\n",
    "        if not cap.isOpened():\n",
    "            return None\n",
    "        fps = cap.get(cv2.CAP_PROP_FPS)\n",
    "        frame_count = cap.get(cv2.CAP_PROP_FRAME_COUNT)\n",
    "        if fps > 0:\n",
    "            duration = frame_count / fps\n",
    "        else:\n",
    "            duration = None\n",
    "        cap.release()\n",
    "        return duration\n",
    "    except Exception as e:\n",
    "        return None\n",
    "\n",
    "testbed_data = []\n",
    "for fname in testbed_files:\n",
    "    year = extract_year(fname)\n",
    "    full_path = os.path.join(testbed_dir, fname)\n",
    "    duration = get_video_duration(full_path)\n",
    "    testbed_data.append({'file_name': fname, 'year': year, 'duration_sec': duration})\n",
    "\n",
    "testbed_df = pd.DataFrame(testbed_data)\n",
    "testbed_df.head()"
   ]
  },
  {
   "cell_type": "code",
   "execution_count": 2,
   "id": "e1ac232a",
   "metadata": {},
   "outputs": [],
   "source": [
    "testbed_df_2024 = testbed_df[testbed_df['year'] == 2024]\n",
    "testbed_df_2025 = testbed_df[testbed_df['year'] == 2025]"
   ]
  },
  {
   "cell_type": "code",
   "execution_count": 3,
   "id": "9edd2317",
   "metadata": {},
   "outputs": [],
   "source": [
    "testbed_df_2024.to_csv('data/testbed_videos_2024.csv', index=False)"
   ]
  },
  {
   "cell_type": "code",
   "execution_count": 5,
   "id": "460dd43d",
   "metadata": {},
   "outputs": [
    {
     "ename": "KeyError",
     "evalue": "'video_name'",
     "output_type": "error",
     "traceback": [
      "\u001b[0;31m---------------------------------------------------------------------------\u001b[0m",
      "\u001b[0;31mKeyError\u001b[0m                                  Traceback (most recent call last)",
      "File \u001b[0;32m~/opt/anaconda3/envs/labelbox/lib/python3.10/site-packages/pandas/core/indexes/base.py:3812\u001b[0m, in \u001b[0;36mIndex.get_loc\u001b[0;34m(self, key)\u001b[0m\n\u001b[1;32m   3811\u001b[0m \u001b[38;5;28;01mtry\u001b[39;00m:\n\u001b[0;32m-> 3812\u001b[0m     \u001b[38;5;28;01mreturn\u001b[39;00m \u001b[38;5;28;43mself\u001b[39;49m\u001b[38;5;241;43m.\u001b[39;49m\u001b[43m_engine\u001b[49m\u001b[38;5;241;43m.\u001b[39;49m\u001b[43mget_loc\u001b[49m\u001b[43m(\u001b[49m\u001b[43mcasted_key\u001b[49m\u001b[43m)\u001b[49m\n\u001b[1;32m   3813\u001b[0m \u001b[38;5;28;01mexcept\u001b[39;00m \u001b[38;5;167;01mKeyError\u001b[39;00m \u001b[38;5;28;01mas\u001b[39;00m err:\n",
      "File \u001b[0;32mpandas/_libs/index.pyx:167\u001b[0m, in \u001b[0;36mpandas._libs.index.IndexEngine.get_loc\u001b[0;34m()\u001b[0m\n",
      "File \u001b[0;32mpandas/_libs/index.pyx:196\u001b[0m, in \u001b[0;36mpandas._libs.index.IndexEngine.get_loc\u001b[0;34m()\u001b[0m\n",
      "File \u001b[0;32mpandas/_libs/hashtable_class_helper.pxi:7088\u001b[0m, in \u001b[0;36mpandas._libs.hashtable.PyObjectHashTable.get_item\u001b[0;34m()\u001b[0m\n",
      "File \u001b[0;32mpandas/_libs/hashtable_class_helper.pxi:7096\u001b[0m, in \u001b[0;36mpandas._libs.hashtable.PyObjectHashTable.get_item\u001b[0;34m()\u001b[0m\n",
      "\u001b[0;31mKeyError\u001b[0m: 'video_name'",
      "\nThe above exception was the direct cause of the following exception:\n",
      "\u001b[0;31mKeyError\u001b[0m                                  Traceback (most recent call last)",
      "Cell \u001b[0;32mIn[5], line 3\u001b[0m\n\u001b[1;32m      1\u001b[0m testbed_2024 \u001b[38;5;241m=\u001b[39m pd\u001b[38;5;241m.\u001b[39mread_csv(\u001b[38;5;124m'\u001b[39m\u001b[38;5;124mdata/testbed_videos_2024.csv\u001b[39m\u001b[38;5;124m'\u001b[39m)\n\u001b[1;32m      2\u001b[0m prefix_2024 \u001b[38;5;241m=\u001b[39m \u001b[38;5;124m\"\u001b[39m\u001b[38;5;124mhttps://storage.googleapis.com/labelbox-sidewalk-testbed-2024/\u001b[39m\u001b[38;5;124m\"\u001b[39m\n\u001b[0;32m----> 3\u001b[0m testbed_df_2024[\u001b[38;5;124m'\u001b[39m\u001b[38;5;124mdownload_link\u001b[39m\u001b[38;5;124m'\u001b[39m] \u001b[38;5;241m=\u001b[39m \u001b[43mtestbed_df_2024\u001b[49m\u001b[43m[\u001b[49m\u001b[38;5;124;43m'\u001b[39;49m\u001b[38;5;124;43mvideo_name\u001b[39;49m\u001b[38;5;124;43m'\u001b[39;49m\u001b[43m]\u001b[49m\u001b[38;5;241m.\u001b[39mapply(\u001b[38;5;28;01mlambda\u001b[39;00m x: \u001b[38;5;124mf\u001b[39m\u001b[38;5;124m\"\u001b[39m\u001b[38;5;132;01m{\u001b[39;00mprefix_2024\u001b[38;5;132;01m}\u001b[39;00m\u001b[38;5;132;01m{\u001b[39;00mx\u001b[38;5;132;01m}\u001b[39;00m\u001b[38;5;124m\"\u001b[39m)\n\u001b[1;32m      4\u001b[0m testbed_df_2024\u001b[38;5;241m.\u001b[39mhead()\n",
      "File \u001b[0;32m~/opt/anaconda3/envs/labelbox/lib/python3.10/site-packages/pandas/core/frame.py:4107\u001b[0m, in \u001b[0;36mDataFrame.__getitem__\u001b[0;34m(self, key)\u001b[0m\n\u001b[1;32m   4105\u001b[0m \u001b[38;5;28;01mif\u001b[39;00m \u001b[38;5;28mself\u001b[39m\u001b[38;5;241m.\u001b[39mcolumns\u001b[38;5;241m.\u001b[39mnlevels \u001b[38;5;241m>\u001b[39m \u001b[38;5;241m1\u001b[39m:\n\u001b[1;32m   4106\u001b[0m     \u001b[38;5;28;01mreturn\u001b[39;00m \u001b[38;5;28mself\u001b[39m\u001b[38;5;241m.\u001b[39m_getitem_multilevel(key)\n\u001b[0;32m-> 4107\u001b[0m indexer \u001b[38;5;241m=\u001b[39m \u001b[38;5;28;43mself\u001b[39;49m\u001b[38;5;241;43m.\u001b[39;49m\u001b[43mcolumns\u001b[49m\u001b[38;5;241;43m.\u001b[39;49m\u001b[43mget_loc\u001b[49m\u001b[43m(\u001b[49m\u001b[43mkey\u001b[49m\u001b[43m)\u001b[49m\n\u001b[1;32m   4108\u001b[0m \u001b[38;5;28;01mif\u001b[39;00m is_integer(indexer):\n\u001b[1;32m   4109\u001b[0m     indexer \u001b[38;5;241m=\u001b[39m [indexer]\n",
      "File \u001b[0;32m~/opt/anaconda3/envs/labelbox/lib/python3.10/site-packages/pandas/core/indexes/base.py:3819\u001b[0m, in \u001b[0;36mIndex.get_loc\u001b[0;34m(self, key)\u001b[0m\n\u001b[1;32m   3814\u001b[0m     \u001b[38;5;28;01mif\u001b[39;00m \u001b[38;5;28misinstance\u001b[39m(casted_key, \u001b[38;5;28mslice\u001b[39m) \u001b[38;5;129;01mor\u001b[39;00m (\n\u001b[1;32m   3815\u001b[0m         \u001b[38;5;28misinstance\u001b[39m(casted_key, abc\u001b[38;5;241m.\u001b[39mIterable)\n\u001b[1;32m   3816\u001b[0m         \u001b[38;5;129;01mand\u001b[39;00m \u001b[38;5;28many\u001b[39m(\u001b[38;5;28misinstance\u001b[39m(x, \u001b[38;5;28mslice\u001b[39m) \u001b[38;5;28;01mfor\u001b[39;00m x \u001b[38;5;129;01min\u001b[39;00m casted_key)\n\u001b[1;32m   3817\u001b[0m     ):\n\u001b[1;32m   3818\u001b[0m         \u001b[38;5;28;01mraise\u001b[39;00m InvalidIndexError(key)\n\u001b[0;32m-> 3819\u001b[0m     \u001b[38;5;28;01mraise\u001b[39;00m \u001b[38;5;167;01mKeyError\u001b[39;00m(key) \u001b[38;5;28;01mfrom\u001b[39;00m\u001b[38;5;250m \u001b[39m\u001b[38;5;21;01merr\u001b[39;00m\n\u001b[1;32m   3820\u001b[0m \u001b[38;5;28;01mexcept\u001b[39;00m \u001b[38;5;167;01mTypeError\u001b[39;00m:\n\u001b[1;32m   3821\u001b[0m     \u001b[38;5;66;03m# If we have a listlike key, _check_indexing_error will raise\u001b[39;00m\n\u001b[1;32m   3822\u001b[0m     \u001b[38;5;66;03m#  InvalidIndexError. Otherwise we fall through and re-raise\u001b[39;00m\n\u001b[1;32m   3823\u001b[0m     \u001b[38;5;66;03m#  the TypeError.\u001b[39;00m\n\u001b[1;32m   3824\u001b[0m     \u001b[38;5;28mself\u001b[39m\u001b[38;5;241m.\u001b[39m_check_indexing_error(key)\n",
      "\u001b[0;31mKeyError\u001b[0m: 'video_name'"
     ]
    }
   ],
   "source": [
    "testbed_2024 = pd.read_csv('data/testbed_videos_2024.csv')\n",
    "prefix_2024 = \"https://storage.googleapis.com/labelbox-sidewalk-testbed-2024/\"\n",
    "testbed_df_2024['download_link'] = testbed_df_2024['video_name'].apply(lambda x: f\"{prefix_2024}{x}\")\n",
    "testbed_df_2024.head()"
   ]
  },
  {
   "cell_type": "code",
   "execution_count": 4,
   "id": "940980c1",
   "metadata": {},
   "outputs": [
    {
     "data": {
      "text/plain": [
       "((170, 3), (434, 3))"
      ]
     },
     "execution_count": 4,
     "metadata": {},
     "output_type": "execute_result"
    }
   ],
   "source": [
    "testbed_df_2024.shape, testbed_df_2025.shape"
   ]
  },
  {
   "cell_type": "code",
   "execution_count": 5,
   "id": "9ec2f69a",
   "metadata": {},
   "outputs": [
    {
     "data": {
      "text/html": [
       "<div>\n",
       "<style scoped>\n",
       "    .dataframe tbody tr th:only-of-type {\n",
       "        vertical-align: middle;\n",
       "    }\n",
       "\n",
       "    .dataframe tbody tr th {\n",
       "        vertical-align: top;\n",
       "    }\n",
       "\n",
       "    .dataframe thead th {\n",
       "        text-align: right;\n",
       "    }\n",
       "</style>\n",
       "<table border=\"1\" class=\"dataframe\">\n",
       "  <thead>\n",
       "    <tr style=\"text-align: right;\">\n",
       "      <th></th>\n",
       "      <th>file_name</th>\n",
       "      <th>year</th>\n",
       "      <th>duration_sec</th>\n",
       "    </tr>\n",
       "  </thead>\n",
       "  <tbody>\n",
       "    <tr>\n",
       "      <th>0</th>\n",
       "      <td>2025-07-15_13-45-34-116_Roller_Ball_Clear_BMCC...</td>\n",
       "      <td>2025</td>\n",
       "      <td>57.600000</td>\n",
       "    </tr>\n",
       "    <tr>\n",
       "      <th>1</th>\n",
       "      <td>2025-07-14_14-22-35-043_Roller_Ball_Clear_BMCC...</td>\n",
       "      <td>2025</td>\n",
       "      <td>8.133333</td>\n",
       "    </tr>\n",
       "    <tr>\n",
       "      <th>2</th>\n",
       "      <td>2025-07-15_14-15-31-424_Roller_Ball_Clear_BMCC...</td>\n",
       "      <td>2025</td>\n",
       "      <td>21.000000</td>\n",
       "    </tr>\n",
       "    <tr>\n",
       "      <th>3</th>\n",
       "      <td>2025-07-15_13-51-06-043_Roller_Ball_Clear_BMCC...</td>\n",
       "      <td>2025</td>\n",
       "      <td>109.000000</td>\n",
       "    </tr>\n",
       "    <tr>\n",
       "      <th>5</th>\n",
       "      <td>2025-07-14_15-14-25-839_Metal_Clear_BMCC_45.mp4</td>\n",
       "      <td>2025</td>\n",
       "      <td>9.533333</td>\n",
       "    </tr>\n",
       "  </tbody>\n",
       "</table>\n",
       "</div>"
      ],
      "text/plain": [
       "                                           file_name  year  duration_sec\n",
       "0  2025-07-15_13-45-34-116_Roller_Ball_Clear_BMCC...  2025     57.600000\n",
       "1  2025-07-14_14-22-35-043_Roller_Ball_Clear_BMCC...  2025      8.133333\n",
       "2  2025-07-15_14-15-31-424_Roller_Ball_Clear_BMCC...  2025     21.000000\n",
       "3  2025-07-15_13-51-06-043_Roller_Ball_Clear_BMCC...  2025    109.000000\n",
       "5    2025-07-14_15-14-25-839_Metal_Clear_BMCC_45.mp4  2025      9.533333"
      ]
     },
     "execution_count": 5,
     "metadata": {},
     "output_type": "execute_result"
    }
   ],
   "source": [
    "testbed_df_2025.head()"
   ]
  },
  {
   "cell_type": "code",
   "execution_count": 6,
   "id": "cbe2a0d7",
   "metadata": {},
   "outputs": [
    {
     "data": {
      "text/plain": [
       "'2025-07-15_13-45-34-116_Roller_Ball_Clear_BMCC_7.mp4'"
      ]
     },
     "execution_count": 6,
     "metadata": {},
     "output_type": "execute_result"
    }
   ],
   "source": [
    "testbed_df_2025.iloc[0, 0]"
   ]
  },
  {
   "cell_type": "code",
   "execution_count": 7,
   "id": "f2439492",
   "metadata": {},
   "outputs": [
    {
     "data": {
      "text/html": [
       "<div>\n",
       "<style scoped>\n",
       "    .dataframe tbody tr th:only-of-type {\n",
       "        vertical-align: middle;\n",
       "    }\n",
       "\n",
       "    .dataframe tbody tr th {\n",
       "        vertical-align: top;\n",
       "    }\n",
       "\n",
       "    .dataframe thead th {\n",
       "        text-align: right;\n",
       "    }\n",
       "</style>\n",
       "<table border=\"1\" class=\"dataframe\">\n",
       "  <thead>\n",
       "    <tr style=\"text-align: right;\">\n",
       "      <th></th>\n",
       "      <th>file_name</th>\n",
       "      <th>year</th>\n",
       "      <th>duration_sec</th>\n",
       "      <th>cane_tip</th>\n",
       "      <th>wether</th>\n",
       "      <th>location</th>\n",
       "    </tr>\n",
       "  </thead>\n",
       "  <tbody>\n",
       "    <tr>\n",
       "      <th>0</th>\n",
       "      <td>2025-07-15_13-45-34-116_Roller_Ball_Clear_BMCC...</td>\n",
       "      <td>2025</td>\n",
       "      <td>57.600000</td>\n",
       "      <td>Roller_Ball</td>\n",
       "      <td>Clear</td>\n",
       "      <td>BMCC</td>\n",
       "    </tr>\n",
       "    <tr>\n",
       "      <th>1</th>\n",
       "      <td>2025-07-14_14-22-35-043_Roller_Ball_Clear_BMCC...</td>\n",
       "      <td>2025</td>\n",
       "      <td>8.133333</td>\n",
       "      <td>Roller_Ball</td>\n",
       "      <td>Clear</td>\n",
       "      <td>BMCC</td>\n",
       "    </tr>\n",
       "    <tr>\n",
       "      <th>2</th>\n",
       "      <td>2025-07-15_14-15-31-424_Roller_Ball_Clear_BMCC...</td>\n",
       "      <td>2025</td>\n",
       "      <td>21.000000</td>\n",
       "      <td>Roller_Ball</td>\n",
       "      <td>Clear</td>\n",
       "      <td>BMCC</td>\n",
       "    </tr>\n",
       "    <tr>\n",
       "      <th>3</th>\n",
       "      <td>2025-07-15_13-51-06-043_Roller_Ball_Clear_BMCC...</td>\n",
       "      <td>2025</td>\n",
       "      <td>109.000000</td>\n",
       "      <td>Roller_Ball</td>\n",
       "      <td>Clear</td>\n",
       "      <td>BMCC</td>\n",
       "    </tr>\n",
       "    <tr>\n",
       "      <th>5</th>\n",
       "      <td>2025-07-14_15-14-25-839_Metal_Clear_BMCC_45.mp4</td>\n",
       "      <td>2025</td>\n",
       "      <td>9.533333</td>\n",
       "      <td>Metal</td>\n",
       "      <td>Clear</td>\n",
       "      <td>BMCC</td>\n",
       "    </tr>\n",
       "  </tbody>\n",
       "</table>\n",
       "</div>"
      ],
      "text/plain": [
       "                                           file_name  year  duration_sec  \\\n",
       "0  2025-07-15_13-45-34-116_Roller_Ball_Clear_BMCC...  2025     57.600000   \n",
       "1  2025-07-14_14-22-35-043_Roller_Ball_Clear_BMCC...  2025      8.133333   \n",
       "2  2025-07-15_14-15-31-424_Roller_Ball_Clear_BMCC...  2025     21.000000   \n",
       "3  2025-07-15_13-51-06-043_Roller_Ball_Clear_BMCC...  2025    109.000000   \n",
       "5    2025-07-14_15-14-25-839_Metal_Clear_BMCC_45.mp4  2025      9.533333   \n",
       "\n",
       "      cane_tip wether location  \n",
       "0  Roller_Ball  Clear     BMCC  \n",
       "1  Roller_Ball  Clear     BMCC  \n",
       "2  Roller_Ball  Clear     BMCC  \n",
       "3  Roller_Ball  Clear     BMCC  \n",
       "5        Metal  Clear     BMCC  "
      ]
     },
     "execution_count": 7,
     "metadata": {},
     "output_type": "execute_result"
    }
   ],
   "source": [
    "def extract_cane_tip_wether_location_v2(filename):\n",
    "    # Remove extension\n",
    "    name = filename.rsplit('.', 1)[0]\n",
    "    parts = name.split('_')\n",
    "    # Format: YYYY-MM-DD_HH-MM-SS_CaneTip(_CaneTip2)_Wether_Location_Segment\n",
    "    # Find the index of the time part (should be the second part, index 1)\n",
    "    # The next part(s) are cane_tip, then wether, then location, then segment\n",
    "    if len(parts) < 6:\n",
    "        # Not enough parts to parse\n",
    "        return None, None, None\n",
    "    # The segment is always the last part\n",
    "    segment = parts[-1]\n",
    "    location = parts[-2]\n",
    "    wether = parts[-3]\n",
    "    # Everything between the time and wether is cane_tip (could be 1 or 2 parts)\n",
    "    cane_tip_parts = parts[2:-3]\n",
    "    cane_tip = '_'.join(cane_tip_parts) if cane_tip_parts else None\n",
    "    return cane_tip, wether, location\n",
    "\n",
    "# Apply new extraction to all rows\n",
    "testbed_df[['cane_tip', 'wether', 'location']] = testbed_df['file_name'].apply(lambda x: pd.Series(extract_cane_tip_wether_location_v2(x)))\n",
    "testbed_df_2025_test = testbed_df_2025.copy()\n",
    "testbed_df_2025_test[['cane_tip', 'wether', 'location']] = testbed_df_2025_test['file_name'].apply(lambda x: pd.Series(extract_cane_tip_wether_location_v2(x)))\n",
    "testbed_df_2025_test.head()"
   ]
  },
  {
   "cell_type": "code",
   "execution_count": 8,
   "id": "76d04740",
   "metadata": {},
   "outputs": [
    {
     "data": {
      "text/html": [
       "<div>\n",
       "<style scoped>\n",
       "    .dataframe tbody tr th:only-of-type {\n",
       "        vertical-align: middle;\n",
       "    }\n",
       "\n",
       "    .dataframe tbody tr th {\n",
       "        vertical-align: top;\n",
       "    }\n",
       "\n",
       "    .dataframe thead th {\n",
       "        text-align: right;\n",
       "    }\n",
       "</style>\n",
       "<table border=\"1\" class=\"dataframe\">\n",
       "  <thead>\n",
       "    <tr style=\"text-align: right;\">\n",
       "      <th></th>\n",
       "      <th>file_name</th>\n",
       "      <th>year</th>\n",
       "      <th>duration_sec</th>\n",
       "      <th>cane_tip</th>\n",
       "      <th>wether</th>\n",
       "      <th>location</th>\n",
       "    </tr>\n",
       "  </thead>\n",
       "  <tbody>\n",
       "    <tr>\n",
       "      <th>0</th>\n",
       "      <td>2025-07-15_13-45-34-116_Roller_Ball_Clear_BMCC...</td>\n",
       "      <td>2025</td>\n",
       "      <td>57.600000</td>\n",
       "      <td>Roller_Ball</td>\n",
       "      <td>Clear</td>\n",
       "      <td>BMCC</td>\n",
       "    </tr>\n",
       "    <tr>\n",
       "      <th>1</th>\n",
       "      <td>2025-07-14_14-22-35-043_Roller_Ball_Clear_BMCC...</td>\n",
       "      <td>2025</td>\n",
       "      <td>8.133333</td>\n",
       "      <td>Roller_Ball</td>\n",
       "      <td>Clear</td>\n",
       "      <td>BMCC</td>\n",
       "    </tr>\n",
       "    <tr>\n",
       "      <th>2</th>\n",
       "      <td>2025-07-15_14-15-31-424_Roller_Ball_Clear_BMCC...</td>\n",
       "      <td>2025</td>\n",
       "      <td>21.000000</td>\n",
       "      <td>Roller_Ball</td>\n",
       "      <td>Clear</td>\n",
       "      <td>BMCC</td>\n",
       "    </tr>\n",
       "    <tr>\n",
       "      <th>3</th>\n",
       "      <td>2025-07-15_13-51-06-043_Roller_Ball_Clear_BMCC...</td>\n",
       "      <td>2025</td>\n",
       "      <td>109.000000</td>\n",
       "      <td>Roller_Ball</td>\n",
       "      <td>Clear</td>\n",
       "      <td>BMCC</td>\n",
       "    </tr>\n",
       "    <tr>\n",
       "      <th>4</th>\n",
       "      <td>0_2024-07-30 13:58:08.8070_none.mp4</td>\n",
       "      <td>2024</td>\n",
       "      <td>59.666667</td>\n",
       "      <td>None</td>\n",
       "      <td>None</td>\n",
       "      <td>None</td>\n",
       "    </tr>\n",
       "  </tbody>\n",
       "</table>\n",
       "</div>"
      ],
      "text/plain": [
       "                                           file_name  year  duration_sec  \\\n",
       "0  2025-07-15_13-45-34-116_Roller_Ball_Clear_BMCC...  2025     57.600000   \n",
       "1  2025-07-14_14-22-35-043_Roller_Ball_Clear_BMCC...  2025      8.133333   \n",
       "2  2025-07-15_14-15-31-424_Roller_Ball_Clear_BMCC...  2025     21.000000   \n",
       "3  2025-07-15_13-51-06-043_Roller_Ball_Clear_BMCC...  2025    109.000000   \n",
       "4                0_2024-07-30 13:58:08.8070_none.mp4  2024     59.666667   \n",
       "\n",
       "      cane_tip wether location  \n",
       "0  Roller_Ball  Clear     BMCC  \n",
       "1  Roller_Ball  Clear     BMCC  \n",
       "2  Roller_Ball  Clear     BMCC  \n",
       "3  Roller_Ball  Clear     BMCC  \n",
       "4         None   None     None  "
      ]
     },
     "execution_count": 8,
     "metadata": {},
     "output_type": "execute_result"
    }
   ],
   "source": [
    "testbed_df.head()"
   ]
  },
  {
   "cell_type": "code",
   "execution_count": 10,
   "id": "663a03c2",
   "metadata": {},
   "outputs": [
    {
     "data": {
      "text/plain": [
       "((434, 6), (434, 6))"
      ]
     },
     "execution_count": 10,
     "metadata": {},
     "output_type": "execute_result"
    }
   ],
   "source": [
    "testbed_df_2025_test.shape, testbed_df_2025_test.shape"
   ]
  },
  {
   "cell_type": "code",
   "execution_count": 11,
   "id": "f8475079",
   "metadata": {},
   "outputs": [],
   "source": [
    "testbed_df_2025_test.to_csv('./data/testbed_2025.csv', index=False)"
   ]
  },
  {
   "cell_type": "code",
   "execution_count": 12,
   "id": "1c7bc3bd",
   "metadata": {},
   "outputs": [],
   "source": [
    "prefix = \"https://storage.googleapis.com/labelbox-sidewalk-testbed-2025/\"\n",
    "\n",
    "testbed_df_2025_test['download_link'] = prefix + testbed_df_2025_test['file_name']"
   ]
  },
  {
   "cell_type": "code",
   "execution_count": 13,
   "id": "1d8b6f5d",
   "metadata": {},
   "outputs": [
    {
     "data": {
      "text/html": [
       "<div>\n",
       "<style scoped>\n",
       "    .dataframe tbody tr th:only-of-type {\n",
       "        vertical-align: middle;\n",
       "    }\n",
       "\n",
       "    .dataframe tbody tr th {\n",
       "        vertical-align: top;\n",
       "    }\n",
       "\n",
       "    .dataframe thead th {\n",
       "        text-align: right;\n",
       "    }\n",
       "</style>\n",
       "<table border=\"1\" class=\"dataframe\">\n",
       "  <thead>\n",
       "    <tr style=\"text-align: right;\">\n",
       "      <th></th>\n",
       "      <th>file_name</th>\n",
       "      <th>year</th>\n",
       "      <th>duration_sec</th>\n",
       "      <th>cane_tip</th>\n",
       "      <th>wether</th>\n",
       "      <th>location</th>\n",
       "      <th>download_link</th>\n",
       "    </tr>\n",
       "  </thead>\n",
       "  <tbody>\n",
       "    <tr>\n",
       "      <th>0</th>\n",
       "      <td>2025-07-15_13-45-34-116_Roller_Ball_Clear_BMCC...</td>\n",
       "      <td>2025</td>\n",
       "      <td>57.600000</td>\n",
       "      <td>Roller_Ball</td>\n",
       "      <td>Clear</td>\n",
       "      <td>BMCC</td>\n",
       "      <td>https://storage.googleapis.com/labelbox-sidewa...</td>\n",
       "    </tr>\n",
       "    <tr>\n",
       "      <th>1</th>\n",
       "      <td>2025-07-14_14-22-35-043_Roller_Ball_Clear_BMCC...</td>\n",
       "      <td>2025</td>\n",
       "      <td>8.133333</td>\n",
       "      <td>Roller_Ball</td>\n",
       "      <td>Clear</td>\n",
       "      <td>BMCC</td>\n",
       "      <td>https://storage.googleapis.com/labelbox-sidewa...</td>\n",
       "    </tr>\n",
       "    <tr>\n",
       "      <th>2</th>\n",
       "      <td>2025-07-15_14-15-31-424_Roller_Ball_Clear_BMCC...</td>\n",
       "      <td>2025</td>\n",
       "      <td>21.000000</td>\n",
       "      <td>Roller_Ball</td>\n",
       "      <td>Clear</td>\n",
       "      <td>BMCC</td>\n",
       "      <td>https://storage.googleapis.com/labelbox-sidewa...</td>\n",
       "    </tr>\n",
       "    <tr>\n",
       "      <th>3</th>\n",
       "      <td>2025-07-15_13-51-06-043_Roller_Ball_Clear_BMCC...</td>\n",
       "      <td>2025</td>\n",
       "      <td>109.000000</td>\n",
       "      <td>Roller_Ball</td>\n",
       "      <td>Clear</td>\n",
       "      <td>BMCC</td>\n",
       "      <td>https://storage.googleapis.com/labelbox-sidewa...</td>\n",
       "    </tr>\n",
       "    <tr>\n",
       "      <th>5</th>\n",
       "      <td>2025-07-14_15-14-25-839_Metal_Clear_BMCC_45.mp4</td>\n",
       "      <td>2025</td>\n",
       "      <td>9.533333</td>\n",
       "      <td>Metal</td>\n",
       "      <td>Clear</td>\n",
       "      <td>BMCC</td>\n",
       "      <td>https://storage.googleapis.com/labelbox-sidewa...</td>\n",
       "    </tr>\n",
       "  </tbody>\n",
       "</table>\n",
       "</div>"
      ],
      "text/plain": [
       "                                           file_name  year  duration_sec  \\\n",
       "0  2025-07-15_13-45-34-116_Roller_Ball_Clear_BMCC...  2025     57.600000   \n",
       "1  2025-07-14_14-22-35-043_Roller_Ball_Clear_BMCC...  2025      8.133333   \n",
       "2  2025-07-15_14-15-31-424_Roller_Ball_Clear_BMCC...  2025     21.000000   \n",
       "3  2025-07-15_13-51-06-043_Roller_Ball_Clear_BMCC...  2025    109.000000   \n",
       "5    2025-07-14_15-14-25-839_Metal_Clear_BMCC_45.mp4  2025      9.533333   \n",
       "\n",
       "      cane_tip wether location  \\\n",
       "0  Roller_Ball  Clear     BMCC   \n",
       "1  Roller_Ball  Clear     BMCC   \n",
       "2  Roller_Ball  Clear     BMCC   \n",
       "3  Roller_Ball  Clear     BMCC   \n",
       "5        Metal  Clear     BMCC   \n",
       "\n",
       "                                       download_link  \n",
       "0  https://storage.googleapis.com/labelbox-sidewa...  \n",
       "1  https://storage.googleapis.com/labelbox-sidewa...  \n",
       "2  https://storage.googleapis.com/labelbox-sidewa...  \n",
       "3  https://storage.googleapis.com/labelbox-sidewa...  \n",
       "5  https://storage.googleapis.com/labelbox-sidewa...  "
      ]
     },
     "execution_count": 13,
     "metadata": {},
     "output_type": "execute_result"
    }
   ],
   "source": [
    "testbed_df_2025_test.head()"
   ]
  },
  {
   "cell_type": "code",
   "execution_count": 14,
   "id": "9a0a9094",
   "metadata": {},
   "outputs": [],
   "source": [
    "testbed_df_2025_test.to_csv('./data/testbed_2025.csv', index=False)"
   ]
  },
  {
   "cell_type": "code",
   "execution_count": null,
   "id": "e650b0b4",
   "metadata": {},
   "outputs": [],
   "source": []
  }
 ],
 "metadata": {
  "kernelspec": {
   "display_name": "labelbox",
   "language": "python",
   "name": "python3"
  },
  "language_info": {
   "codemirror_mode": {
    "name": "ipython",
    "version": 3
   },
   "file_extension": ".py",
   "mimetype": "text/x-python",
   "name": "python",
   "nbconvert_exporter": "python",
   "pygments_lexer": "ipython3",
   "version": "3.10.18"
  }
 },
 "nbformat": 4,
 "nbformat_minor": 5
}
